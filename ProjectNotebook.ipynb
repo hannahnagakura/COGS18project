{
 "cells": [
  {
   "cell_type": "markdown",
   "metadata": {},
   "source": [
    "# Project Description"
   ]
  },
  {
   "cell_type": "markdown",
   "metadata": {},
   "source": [
    "High School Musical Song Lyrics Quiz\n",
    "\n",
    "Hi! Welcome to my quiz. To begin, you'll be asked which HSM movie you want to test your song knowledge on.\n",
    "Then, you'll be given a random song lyric from that chosen movie and you have to guess the song title.\n",
    "Once you put in your answer, you'll see if you're correct or not. Afterwards, you can choose to try again or quit. If you try again, you can rechoose which movie you'd like to test yourself on.\n",
    "\n",
    "Project Folder contains the project notebook and my_module. Inside my_module:\n",
    "- functions.py\n",
    "- test_functions.py\n",
    "- 3 text files with song lyrics from each movie\n",
    "- my brainstorming module I used to test/practice on (can ignore)"
   ]
  },
  {
   "cell_type": "markdown",
   "metadata": {},
   "source": [
    "## Project Code\n",
    "\n",
    "If it makes sense for your project, you can have code and outputs here in the notebook as well."
   ]
  },
  {
   "cell_type": "code",
   "execution_count": 1,
   "metadata": {},
   "outputs": [],
   "source": [
    "\n",
    "import numpy as np\n",
    "from my_module.functions import intro, choose_movie, game_1, game_2, game_3, retry\n"
   ]
  },
  {
   "cell_type": "code",
   "execution_count": null,
   "metadata": {
    "scrolled": false
   },
   "outputs": [],
   "source": [
    "# Do a bunch of things.\n",
    "intro()"
   ]
  },
  {
   "cell_type": "code",
   "execution_count": null,
   "metadata": {
    "scrolled": true
   },
   "outputs": [],
   "source": [
    "# test it out\n",
    "#!pytest my_module/test_functions.py\n"
   ]
  },
  {
   "cell_type": "markdown",
   "metadata": {},
   "source": [
    "#### Extra Credit (*optional*)\n",
    "\n",
    "Replace all of this text with a brief explanation (~3 sentences) of: \n",
    "1. I've never tried Python before so this was a very new and often difficult course. I've used \n",
    "    a lot of online question-and-answer resources to help me. Throughout this course,\n",
    "    I think I've been able to learn the basics, which is helpful.\n",
    "    \n",
    "2. I challenged myself by using numpy for the first time. I had to do research outside of class\n",
    "    to learn about it and I also combined a lot of other different methods in this project, like readlines, \n",
    "    strip, and open."
   ]
  },
  {
   "cell_type": "code",
   "execution_count": null,
   "metadata": {},
   "outputs": [],
   "source": []
  }
 ],
 "metadata": {
  "kernelspec": {
   "display_name": "Python 3 (ipykernel)",
   "language": "python",
   "name": "python3"
  },
  "language_info": {
   "codemirror_mode": {
    "name": "ipython",
    "version": 3
   },
   "file_extension": ".py",
   "mimetype": "text/x-python",
   "name": "python",
   "nbconvert_exporter": "python",
   "pygments_lexer": "ipython3",
   "version": "3.9.5"
  }
 },
 "nbformat": 4,
 "nbformat_minor": 2
}
